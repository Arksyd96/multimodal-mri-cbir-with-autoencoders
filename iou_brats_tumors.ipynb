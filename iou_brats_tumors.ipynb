{
 "cells": [
  {
   "cell_type": "markdown",
   "metadata": {},
   "source": [
    "### Inputs"
   ]
  },
  {
   "cell_type": "code",
   "execution_count": 25,
   "metadata": {},
   "outputs": [
    {
     "name": "stdout",
     "output_type": "stream",
     "text": [
      "imported\n"
     ]
    }
   ],
   "source": [
    "import os\n",
    "import numpy as np\n",
    "import matplotlib.pyplot as plt\n",
    "import nibabel as nib\n",
    "from tqdm import tqdm\n",
    "import pickle\n",
    "\n",
    "print('imported')"
   ]
  },
  {
   "cell_type": "markdown",
   "metadata": {},
   "source": [
    "### Loading all patients segmented tumors"
   ]
  },
  {
   "cell_type": "code",
   "execution_count": 5,
   "metadata": {},
   "outputs": [
    {
     "name": "stderr",
     "output_type": "stream",
     "text": [
      "100%|██████████| 1051/1051 [00:07<00:00, 144.76it/s]\n",
      "100%|██████████| 200/200 [00:01<00:00, 107.90it/s]"
     ]
    },
    {
     "name": "stdout",
     "output_type": "stream",
     "text": [
      "loaded\n"
     ]
    },
    {
     "name": "stderr",
     "output_type": "stream",
     "text": [
      "\n"
     ]
    }
   ],
   "source": [
    "# constants\n",
    "base_directory = './Brats_only_lesion_max_ROI/'\n",
    "train_patient_list = os.listdir(base_directory + 'train/')\n",
    "test_patient_list = os.listdir(base_directory + 'test/')\n",
    "\n",
    "best_slice_path = lambda p, m: base_directory + m + '/' + p + '/' + p + '_best_slices/' + p + '_seg.nii.gz'\n",
    "\n",
    "train_seg_list = []\n",
    "test_seg_list = []\n",
    "for p in tqdm(train_patient_list):\n",
    "    train_seg_list.append(nib.load(best_slice_path(p, 'train')).get_fdata())\n",
    "for p in tqdm(test_patient_list):\n",
    "    test_seg_list.append(nib.load(best_slice_path(p, 'test')).get_fdata())\n",
    "\n",
    "print('loaded')"
   ]
  },
  {
   "cell_type": "code",
   "execution_count": 12,
   "metadata": {},
   "outputs": [
    {
     "name": "stdout",
     "output_type": "stream",
     "text": [
      "classes indexes: [0 1 2 3 4]\n"
     ]
    }
   ],
   "source": [
    "train_seg_list = np.array(train_seg_list)\n",
    "test_seg_list = np.array(test_seg_list)\n",
    "\n",
    "# unique values (classes) we have\n",
    "print('classes indexes: {}'.format(np.unique(train_seg_list)))"
   ]
  },
  {
   "cell_type": "markdown",
   "metadata": {},
   "source": [
    "### Computing IoU all classes combined"
   ]
  },
  {
   "cell_type": "code",
   "execution_count": 21,
   "metadata": {},
   "outputs": [
    {
     "name": "stderr",
     "output_type": "stream",
     "text": [
      "100%|██████████| 1051/1051 [04:06<00:00,  4.26it/s]\n",
      "100%|██████████| 200/200 [00:08<00:00, 22.76it/s]\n"
     ]
    }
   ],
   "source": [
    "def iou_metric(a_seg, b_seg):\n",
    "    a_seg = a_seg.astype('uint8')\n",
    "    b_seg = b_seg.astype('uint8')\n",
    "    intersection = np.logical_and(a_seg, b_seg)\n",
    "    union = np.logical_or(a_seg, b_seg)\n",
    "    return np.sum(intersection) / np.sum(union)\n",
    "\n",
    "train_all_c_iou = np.zeros((len(train_seg_list), len(train_seg_list)))\n",
    "test_all_c_iou = np.zeros((len(test_seg_list), len(test_seg_list)))\n",
    "\n",
    "for i in tqdm(range(len(train_seg_list))):\n",
    "    for j in range(len(train_seg_list)):\n",
    "        train_all_c_iou[i, j] = iou_metric(train_seg_list[i], train_seg_list[j])\n",
    "\n",
    "for i in tqdm(range(len(test_seg_list))):\n",
    "    for j in range(len(test_seg_list)):\n",
    "        test_all_c_iou[i, j] = iou_metric(test_seg_list[i], test_seg_list[j])"
   ]
  },
  {
   "cell_type": "markdown",
   "metadata": {},
   "source": [
    "### Printing small part of the IoU matrix\n",
    "The matrix should be a symetric matrix, with the diagonal elements equal to 1."
   ]
  },
  {
   "cell_type": "code",
   "execution_count": 24,
   "metadata": {},
   "outputs": [
    {
     "data": {
      "text/plain": [
       "array([[1.        , 0.33917583, 0.67217935, 0.54090389, 0.36979552],\n",
       "       [0.33917583, 1.        , 0.43521595, 0.41382141, 0.32598853],\n",
       "       [0.67217935, 0.43521595, 1.        , 0.51456065, 0.40246126],\n",
       "       [0.54090389, 0.41382141, 0.51456065, 1.        , 0.64262218],\n",
       "       [0.36979552, 0.32598853, 0.40246126, 0.64262218, 1.        ]])"
      ]
     },
     "execution_count": 24,
     "metadata": {},
     "output_type": "execute_result"
    }
   ],
   "source": [
    "train_all_c_iou[:5, :5]"
   ]
  },
  {
   "cell_type": "code",
   "execution_count": 26,
   "metadata": {},
   "outputs": [
    {
     "data": {
      "text/plain": [
       "array([[1.        , 0.43032622, 0.33347377, 0.45736919, 0.48860799],\n",
       "       [0.43032622, 1.        , 0.28437877, 0.67574932, 0.3743099 ],\n",
       "       [0.33347377, 0.28437877, 1.        , 0.27403994, 0.20674117],\n",
       "       [0.45736919, 0.67574932, 0.27403994, 1.        , 0.329718  ],\n",
       "       [0.48860799, 0.3743099 , 0.20674117, 0.329718  , 1.        ]])"
      ]
     },
     "execution_count": 26,
     "metadata": {},
     "output_type": "execute_result"
    }
   ],
   "source": [
    "test_all_c_iou[:5, :5]"
   ]
  },
  {
   "cell_type": "code",
   "execution_count": null,
   "metadata": {},
   "outputs": [],
   "source": []
  }
 ],
 "metadata": {
  "interpreter": {
   "hash": "6e51fef59ada9ce62a442d7297f9fef1103f1123f1c1d2738b0b3396f43137e7"
  },
  "kernelspec": {
   "display_name": "Python 3.7.13 ('work')",
   "language": "python",
   "name": "python3"
  },
  "language_info": {
   "codemirror_mode": {
    "name": "ipython",
    "version": 3
   },
   "file_extension": ".py",
   "mimetype": "text/x-python",
   "name": "python",
   "nbconvert_exporter": "python",
   "pygments_lexer": "ipython3",
   "version": "3.7.13"
  },
  "orig_nbformat": 4
 },
 "nbformat": 4,
 "nbformat_minor": 2
}
